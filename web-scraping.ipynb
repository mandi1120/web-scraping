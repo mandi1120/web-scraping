{
 "cells": [
  {
   "cell_type": "markdown",
   "metadata": {},
   "source": [
    "# Web Mining and Applied NLP (44-620)\n",
    "\n",
    "## Web Scraping and NLP with Requests, BeautifulSoup, and spaCy\n",
    "\n",
    "### Student Name: Amanda Hanway\n",
    "### Repository: https://github.com/mandi1120/web-scraping \n",
    "\n",
    "Perform the tasks described in the Markdown cells below.  When you have completed the assignment make sure your code cells have all been run (and have output beneath them) and ensure you have committed and pushed ALL of your changes to your assignment repository.\n",
    "\n",
    "Every question that requires you to write code will have a code cell underneath it; you may either write your entire solution in that cell or write it in a python file (`.py`), then import and run the appropriate code to answer the question."
   ]
  },
  {
   "cell_type": "markdown",
   "metadata": {
    "tags": []
   },
   "source": [
    "----------------\n",
    "### QUESTION 1"
   ]
  },
  {
   "cell_type": "markdown",
   "metadata": {},
   "source": [
    "1. Write code that extracts the article html from https://web.archive.org/web/20210327165005/https://hackaday.com/2021/03/22/how-laser-headlights-work/ and dumps it to a .pkl (or other appropriate file)"
   ]
  },
  {
   "cell_type": "code",
   "execution_count": 64,
   "metadata": {},
   "outputs": [],
   "source": [
    "import requests\n",
    "import pickle\n",
    "from bs4 import BeautifulSoup\n",
    "\n",
    "article_page = requests.get('https://web.archive.org/web/20210327165005/https://hackaday.com/2021/03/22/how-laser-headlights-work/')\n",
    "article_html = article_page.text\n",
    "\n",
    "# create pickle file for exercises\n",
    "with open('python-match.pkl', 'wb') as f:\n",
    "    pickle.dump(article_page.text, f)\n",
    "    \n",
    "# create html file to submit   \n",
    "soup = BeautifulSoup(article_html, 'html5lib')    \n",
    "article_content = soup.find('article')    \n",
    "with open(\"how-laser-headlights-work.html\", \"w\", encoding = 'utf-8') as file:\n",
    "    file.write(article_content.get_text())"
   ]
  },
  {
   "cell_type": "markdown",
   "metadata": {
    "tags": []
   },
   "source": [
    "----------------\n",
    "### QUESTION 2"
   ]
  },
  {
   "cell_type": "markdown",
   "metadata": {},
   "source": [
    "2. Read in your article's html source from the file you created in question 1 and print it's text (use `.get_text()`)"
   ]
  },
  {
   "cell_type": "code",
   "execution_count": 4,
   "metadata": {},
   "outputs": [
    {
     "name": "stdout",
     "output_type": "stream",
     "text": [
      "\n",
      "    \n",
      "        How Laser Headlights Work\n",
      "        \n",
      "            \n",
      "                130 Comments            \n",
      "            \n",
      "                by:\n",
      "                Lewin Day\n",
      "            \n",
      "        \n",
      "\n",
      "        \n",
      "            March 22, 2021\n",
      "            \n",
      "                \n",
      "                \n",
      "            \n",
      "        \n",
      "\n",
      "        \n",
      "    \n",
      "\n",
      "    \n",
      "        When we think about the onward march of automotive technology, headlights aren’t usually the first thing that come to mind. Engines, fuel efficiency, and the switch to electric power are all more front of mind. However, that doesn’t mean there aren’t thousands of engineers around the world working to improve the state of the art in automotive lighting day in, day out.\n",
      "Sealed beam headlights gave way to more modern designs once regulations loosened up, while bulbs moved from simple halogens to xenon HIDs and, more recently, LEDs. Now, a new technology is on the scene, with lasers!\n",
      "\n",
      "Laser Headlights?!\n",
      "BWM’s prototype laser headlight assemblies undergoing testing.\n",
      "The first image brought to mind by the phrase “laser headlights” is that of laser beams firing out the front of an automobile. Obviously, coherent beams of monochromatic light would make for poor illumination outside of a very specific spot quite some distance away. Thankfully for our eyes, laser headlights don’t work in this way at all.\n",
      "Instead, laser headlights consist of one or more solid state laser diodes mounted inside the headlight. These blue lasers are fired at a yellow phosphor, similar to that used in white LEDs. This produces a powerful, vibrant white light that can then be bounced off reflectors and out of the headlights towards the road. Laser headlights built in this way have several benefits. They’re more energy efficient than LEDs that put out the same amount of light, while also being more space efficient, too.\n",
      "BWM’s futuristic i8 was one of the first vehicles to ship with laser headlight technology.\n",
      "Laser headlights are still a nascent technology, thus far only appearing in a few BMW, Audi, and other select vehicles. BMW’s technology was developed in partnership with lighting experts OSRAM. In practice, a regular LED low-beam lamp is used, with the laser used to create an incredibly bright and focused spot, used for high-beams. This can provide illumination out to 600 meters ahead of the vehicle, double that of conventional LED high beams. The lights use indium gallium nitride diode lasers that were originally used in projectors, with power levels above 1 watt. One of the challenges in implementing such technology in an automotive environment is the need for it to operate at temperature extremes. While research lasers and laser pointers may primarily be used at typical room temperatures, automotive headlights must be able to withstand everything from 40 degrees below zero up to 50 degrees C. Thankfully, the laser’s high efficiency means it doesn’t have huge heat output of its own to further complicate things. Other engineering challenges involve tailoring the optics package for the rough-and-tumble, high vibration environment found in the automotive application. It’s also important to ensure, as with any such device, that the end user can’t be exposed to harmful laser radiation in the event of accident or malfunction.\n",
      "Tearing Down the Laser Headlight\n",
      "A marketing image showing the construction of an aftermarket LED/laser headlight. We’d take the laser power with a grain of salt — it’s difficult to imagine a 10 W laser shining directly on some small LEDs without melting a hole through the board in short order.\n",
      "An aftermarket has sprung up too, with delightfully innovative designs. Combined laser/LED headlights are readily available on Alibaba, designed as a drop in replacement for projector lamps on existing vehicles. These often use an LED low-beam, and a combined LED/laser high beam, where the laser diode shoots directly at the LED phosphor to excite it further, rather than using its own. These units often also come with fan cooling to keep the laser and LEDs below their maximum operational temperature. Such developments are exciting, though it’s important to be wary of the performance of unknown aftermarket headlights. Many aftermarket LED headlight “upgrades” fail to pass muster when it comes to real-world performance, and there’s no reason to believe hybrid LED/laser designs will be any different. We’d love to pass a selection of these parts through a full IIHS test protocol, but that’s sadly beyond the scope (and budget!) of this article.\n",
      "However, [mikeselectricstuff] has happened to lay his hands on both the BMW and aftermarket parts, tearing them all down in his workshop to see what makes them tick. The differences are multitude when laid bare on the bench. The AliExpress part is relatively simple, wired up no differently from a regular headlight. Interestingly, however, the laser high-beam circuit runs all the time in these parts. To prevent blinding other road users, a shutter is kept in place to block the light, which is moved out of the way with a solenoid when the driver turns on the high beam switch.\n",
      "Where the aftermarket part is a little out of left field, the BMW design is another thing entirely. The cutting-edge headlights are hooked up with multiple connectors and over 30 conductors, with much of the driver electronics living in an external controller. Much of this is to drive the various LEDs and stepper motors for slewing the headlights when steering. However, the laser assembly brings its own complexities. Twin light sensors are built inside to monitor the laser beam, and a special metal blocking arm sits directly in front of the diode, presumably to stop the laser light leaving the headlight in the event the phosphor coating burns through. It’s truly wild to get a look inside a modern luxury car’s headlight and see just how far we’ve come from the old days of simple sealed beams.\n",
      "Cost Versus Performance\n",
      "Despite the efficiency gains available, the technology remains expensive. Powerful laser diodes don’t come cheap, after all. However, as the technology trickles down to lower-end models, it’s likely that we could see economies of scale change that for the better. Indeed, if national authorities begin to demand higher performance headlights as standard, we could see laser headlights become the norm, rather than an expensive luxury. The technology could naturally be applied to home and commercial lighting, too — though we suspect the potential gains are limited enough that LED lighting will remain the norm for some time to come.\n",
      "The high light output of laser headlights in a compact package allows engineers greater freedom when designing the front-end of a car.\n",
      "As it currently stands, much of the appeal of the new technology is about the packaging benefits, which allow automotive designers greater freedom around the headlight area. Such concerns are less of a factor when it comes to light fittings in the home or office, or indeed, on lower-end automobiles. Regardless, it’s an exciting new application for lasers and one we’ll be sure to see more of in the future.\n",
      " \n",
      "\t            \n",
      "    \n",
      "    \t\t\t\t\t\n",
      "    \t\t\t\t\n",
      "    \t\t\t\t\t \n",
      "    \t\t\t\t\t\t\t\t\t\n",
      "    \t\t\t\n",
      "    \t\t\t\t\t\n",
      "    \t\t\t\t\n",
      "    \t\t\t\t\t\n",
      "    \t\t\t\t\t\t\t\t\t\n",
      "    \t\t\t\n",
      "    \t\t\t\t\t\n",
      "    \t\t\t\t\n",
      "    \t\t\t\t\t\n",
      "    \t\t\t\t\t\t\t\t\t\n",
      "    \t\t\t\n",
      "    \t\t\t\t\t\n",
      "                \n",
      "    \t\t\t\t\t\n",
      "    \t\t\t\t\t\t\t\t\t\n",
      "    \t\t\t\n",
      "    \t\t\t\n",
      "    \n",
      "        Posted in car hacks, Engineering, Featured, Laser Hacks, SliderTagged laser, laser headlight, laser headlights, light    \n",
      "\n"
     ]
    }
   ],
   "source": [
    "from bs4 import BeautifulSoup\n",
    "\n",
    "with open('python-match.pkl', 'rb') as f:\n",
    "    article_html = pickle.load(f)\n",
    "    \n",
    "soup = BeautifulSoup(article_html, 'html5lib')    \n",
    "article_content = soup.find('article')    \n",
    "print(article_content.get_text())    "
   ]
  },
  {
   "cell_type": "markdown",
   "metadata": {
    "tags": []
   },
   "source": [
    "----------------\n",
    "### QUESTION 3"
   ]
  },
  {
   "cell_type": "markdown",
   "metadata": {},
   "source": [
    "3. Load the article text into a trained `spaCy` pipeline, and determine the 5 most frequent tokens (converted to lower case).  Print the common tokens with an appropriate label.  Additionally, print the tokens their frequencies (with appropriate labels). Make sure to remove things we don't care about (punctuation, stopwords, whitespace)."
   ]
  },
  {
   "cell_type": "code",
   "execution_count": 44,
   "metadata": {},
   "outputs": [
    {
     "name": "stdout",
     "output_type": "stream",
     "text": [
      "5 most common tokens:\n",
      "  [('laser', 35), ('headlights', 19), ('headlight', 11), ('technology', 10), ('led', 10)]\n",
      "\n",
      "5 most common tokens with appropriate labels and frequencies:\n",
      "  #1 Most common token is \u001b[1mlaser\u001b[0m with a count of \u001b[1m35\u001b[0m\n",
      "  #2 Most common token is \u001b[1mheadlights\u001b[0m with a count of \u001b[1m19\u001b[0m\n",
      "  #3 Most common token is \u001b[1mheadlight\u001b[0m with a count of \u001b[1m11\u001b[0m\n",
      "  #4 Most common token is \u001b[1mtechnology\u001b[0m with a count of \u001b[1m10\u001b[0m\n",
      "  #5 Most common token is \u001b[1mled\u001b[0m with a count of \u001b[1m10\u001b[0m\n"
     ]
    }
   ],
   "source": [
    "import spacy\n",
    "from spacytextblob.spacytextblob import SpacyTextBlob\n",
    "from collections import Counter\n",
    "\n",
    "# load article text into trained spaCy pipeline\n",
    "nlp = spacy.load('en_core_web_sm')\n",
    "nlp.add_pipe('spacytextblob')\n",
    "doc = nlp(article_content.get_text())\n",
    "\n",
    "# create a function to remove whitepace, stopwords, and punctuation\n",
    "def we_care_about(token):\n",
    "    return not (token.is_space or token.is_punct or token.is_stop)\n",
    "\n",
    "# remove whitespace, stopwords, and punctuation & make text lowercase\n",
    "interesting_tokens = [token.text.lower() for token in doc if we_care_about(token)]\n",
    "\n",
    "# count word frequency \n",
    "word_freq = Counter(map(str,interesting_tokens))\n",
    "five_most_common = word_freq.most_common(5)\n",
    "\n",
    "# print 5 most common word tokens\n",
    "print(\"5 most common tokens:\\n \", five_most_common)\n",
    "\n",
    "# print 5 most common word tokens with appropriate labels & frequencies\n",
    "print(\"\\n5 most common tokens with appropriate labels and frequencies:\") \n",
    "c = 0\n",
    "for x in five_most_common:\n",
    "    c +=1\n",
    "    print(f\"  #{c} Most common token is\", '\\x1b[1m'+str(five_most_common[c-1][0])+'\\x1b[0m', \n",
    "          \"with a count of\", '\\x1b[1m'+str(five_most_common[c-1][1])+'\\x1b[0m') "
   ]
  },
  {
   "cell_type": "markdown",
   "metadata": {
    "tags": []
   },
   "source": [
    "----------------\n",
    "### QUESTION 4"
   ]
  },
  {
   "cell_type": "markdown",
   "metadata": {},
   "source": [
    "4. Load the article text into a trained `spaCy` pipeline, and determine the 5 most frequent lemmas (converted to lower case).  Print the common lemmas with an appropriate label.  Additionally, print the lemmas with their frequencies (with appropriate labels). Make sure to remove things we don't care about (punctuation, stopwords, whitespace)."
   ]
  },
  {
   "cell_type": "code",
   "execution_count": 8,
   "metadata": {},
   "outputs": [
    {
     "name": "stdout",
     "output_type": "stream",
     "text": [
      "5 most common lemmas:\n",
      "  [('laser', 40), ('headlight', 28), ('beam', 12), ('led', 11), ('technology', 10)]\n",
      "\n",
      "5 most common lemmas with appropriate labels and frequencies:\n",
      "  #1 Most common lemma is \u001b[1mlaser\u001b[0m with a count of \u001b[1m40\u001b[0m\n",
      "  #2 Most common lemma is \u001b[1mheadlight\u001b[0m with a count of \u001b[1m28\u001b[0m\n",
      "  #3 Most common lemma is \u001b[1mbeam\u001b[0m with a count of \u001b[1m12\u001b[0m\n",
      "  #4 Most common lemma is \u001b[1mled\u001b[0m with a count of \u001b[1m11\u001b[0m\n",
      "  #5 Most common lemma is \u001b[1mtechnology\u001b[0m with a count of \u001b[1m10\u001b[0m\n"
     ]
    }
   ],
   "source": [
    "import spacy\n",
    "from spacytextblob.spacytextblob import SpacyTextBlob\n",
    "from collections import Counter\n",
    "\n",
    "# load article text into trained spaCy pipeline\n",
    "nlp = spacy.load('en_core_web_sm')\n",
    "nlp.add_pipe('spacytextblob')\n",
    "doc = nlp(article_content.get_text())\n",
    "\n",
    "# create a function to remove whitepace, stopwords, and punctuation\n",
    "def we_care_about(token):\n",
    "    return not (token.is_space or token.is_punct or token.is_stop)\n",
    "\n",
    "# remove whitespace, stopwords, and punctuation & make text lowercase\n",
    "interesting_lemmas = [token.lemma_.lower() for token in doc if we_care_about(token)]\n",
    "\n",
    "# count lemma frequency \n",
    "lemma_freq = Counter(interesting_lemmas)\n",
    "five_most_common = lemma_freq.most_common(5)\n",
    "\n",
    "# print 5 most common lemmas\n",
    "print(\"5 most common lemmas:\\n \", five_most_common)\n",
    "\n",
    "# print 5 most common lemmas with appropriate labels & frequencies\n",
    "print(\"\\n5 most common lemmas with appropriate labels and frequencies:\") \n",
    "c = 0\n",
    "for x in five_most_common:\n",
    "    c +=1\n",
    "    print(f\"  #{c} Most common lemma is\", '\\x1b[1m'+str(five_most_common[c-1][0])+'\\x1b[0m', \n",
    "          \"with a count of\", '\\x1b[1m'+str(five_most_common[c-1][1])+'\\x1b[0m') "
   ]
  },
  {
   "cell_type": "markdown",
   "metadata": {
    "tags": []
   },
   "source": [
    "----------------\n",
    "### QUESTION 5"
   ]
  },
  {
   "cell_type": "markdown",
   "metadata": {},
   "source": [
    "5. Define the following methods:\n",
    "    * `score_sentence_by_token(sentence, interesting_token)` that takes a sentence and a list of interesting token and returns the number of times that any of the interesting words appear in the sentence divided by the number of words in the sentence\n",
    "    * `score_sentence_by_lemma(sentence, interesting_lemmas)` that takes a sentence and a list of interesting lemmas and returns the number of times that any of the interesting lemmas appear in the sentence divided by the number of words in the sentence\n",
    "    \n",
    "You may find some of the code from the in class notes useful; feel free to use methods (rewrite them in this cell as well).  Test them by showing the score of the first sentence in your article using the frequent tokens and frequent lemmas identified in question 3."
   ]
  },
  {
   "cell_type": "code",
   "execution_count": 17,
   "metadata": {},
   "outputs": [
    {
     "name": "stdout",
     "output_type": "stream",
     "text": [
      "\n",
      "------------ SCORE SENTENCE BY TOKEN ------------\n",
      "\n",
      "Sentence Provided:\n",
      "  When we think about the onward march of automotive technology, headlights aren’t usually the first thing that come to mind. \n",
      "\n",
      "Tokens Provided:\n",
      "  ['laser', 'headlights', 'headlight', 'technology', 'led'] \n",
      "\n",
      "Tokens with Frequency and Score:\n",
      "  Token: technology,  Frequency: 1,  Score: 0.05\n",
      "  Token: headlights,  Frequency: 1,  Score: 0.05\n",
      "  Token: laser,  Frequency: 0,  Score: 0.0\n",
      "  Token: headlight,  Frequency: 0,  Score: 0.0\n",
      "  Token: led,  Frequency: 0,  Score: 0.0\n",
      "\n",
      "------------------ END ------------------\n",
      "\n",
      "\n",
      "------------ SCORE SENTENCE BY LEMMA ------------\n",
      "\n",
      "Sentence Provided:\n",
      "  When we think about the onward march of automotive technology, headlights aren’t usually the first thing that come to mind. \n",
      "\n",
      "Lemmas Provided:\n",
      "  ['laser', 'headlight', 'beam', 'led', 'technology'] \n",
      "\n",
      "Lemmas with Frequency and Score:\n",
      "  Lemma: technology,  Frequency: 1,  Score: 0.05\n",
      "  Lemma: headlight,  Frequency: 1,  Score: 0.05\n",
      "  Lemma: laser,  Frequency: 0,  Score: 0.0\n",
      "  Lemma: beam,  Frequency: 0,  Score: 0.0\n",
      "  Lemma: led,  Frequency: 0,  Score: 0.0\n",
      "\n",
      "------------------ END ------------------\n",
      "\n"
     ]
    }
   ],
   "source": [
    "class NLP:\n",
    "\n",
    "    # create a function that takes a sentence and a list of interesting tokens \n",
    "    # and returns the number of times that any of the interesting words appear \n",
    "    # in the sentence divided by the number of words in the sentence\n",
    "    def score_sentence_by_token(sentence, interesting_token):\n",
    "        \n",
    "        print(\"\\n------------ SCORE SENTENCE BY TOKEN ------------\\n\")\n",
    "        print(\"Sentence Provided:\\n \", sentence, \"\\n\")\n",
    "        print(\"Tokens Provided:\\n \", interesting_token, \"\\n\")      \n",
    "        \n",
    "        # load sentence text into trained spaCy pipeline\n",
    "        nlp = spacy.load('en_core_web_sm')\n",
    "        nlp.add_pipe('spacytextblob')\n",
    "        doc = nlp(sentence) \n",
    "\n",
    "        # create a function to remove whitepace, stopwords, and punctuation\n",
    "        def we_care_about(token):\n",
    "            return not (token.is_space or token.is_punct or token.is_stop)\n",
    "\n",
    "        # remove whitespace, stopwords, and punctuation & make text lowercase on the sentence\n",
    "        interesting_tokens_sentence = [token.text.lower() for token in doc if we_care_about(token)]\n",
    "        #print(\"Interesting Tokens in Sentence:\\n \", interesting_tokens_sentence, \"\\n\")\n",
    "\n",
    "        # count frequency of interesting tokens in the sentence\n",
    "        word_freq = dict(Counter(map(str,interesting_tokens_sentence)))\n",
    "        #print(\"Frequency of Interesting Tokens in Sentence:\\n \", word_freq, \"\\n\")\n",
    "\n",
    "        # if the sentence token was not in the provided list of interesting tokens, remove it\n",
    "        tokens_in_list = word_freq\n",
    "        for key in list(tokens_in_list.keys()):\n",
    "              if key not in interesting_token:\n",
    "                 del tokens_in_list[key]\n",
    "        #print(tokens_in_list)\n",
    "\n",
    "        # if the provided token was not in the sentence, add it with 0 count\n",
    "        for i in list(interesting_token):\n",
    "              if i not in tokens_in_list:\n",
    "                 tokens_in_list[i] =  0\n",
    "        #print(tokens_in_list)\n",
    "\n",
    "        # count total words in the sentence\n",
    "        total_count = 0\n",
    "        for token in doc:\n",
    "            if not(token.is_space or token.is_punct):\n",
    "                total_count += 1\n",
    "        # print(\"\\nTotal Words in the Sentence:\", total_count)\n",
    "\n",
    "        # return the number of times any of the interesting words appear in the sentence \n",
    "        # divided by the number of words in the sentence\n",
    "        print(\"Tokens with Frequency and Score:\")\n",
    "        for key, value in word_freq.items():\n",
    "            score = value/total_count\n",
    "            print(f\"  Token: {key},  Frequency: {value},  Score: {round(score,2)}\")\n",
    "        print(\"\\n------------------ END ------------------\\n\")\n",
    "\n",
    "    # create a function that takes a sentence and a list of interesting lemmas \n",
    "    # and returns the number of times that any of the interesting lemmas appear \n",
    "    # in the sentence divided by the number of words in the sentence\n",
    "    def score_sentence_by_lemma(sentence, interesting_lemmas):\n",
    "        \n",
    "        print(\"\\n------------ SCORE SENTENCE BY LEMMA ------------\\n\")\n",
    "        print(\"Sentence Provided:\\n \", sentence, \"\\n\")\n",
    "        print(\"Lemmas Provided:\\n \", interesting_lemmas, \"\\n\")      \n",
    "        \n",
    "        # load sentence text into trained spaCy pipeline\n",
    "        nlp = spacy.load('en_core_web_sm')\n",
    "        nlp.add_pipe('spacytextblob')\n",
    "        doc = nlp(sentence) \n",
    "\n",
    "        # create a function to remove whitepace, stopwords, and punctuation\n",
    "        def we_care_about(token):\n",
    "            return not (token.is_space or token.is_punct or token.is_stop)\n",
    "\n",
    "        # remove whitespace, stopwords, and punctuation & make text lowercase on the sentence\n",
    "        interesting_lemmas_sentence = [token.lemma_.lower() for token in doc if we_care_about(token)]\n",
    "        #print(\"Interesting Lemmas in Sentence:\\n \", interesting_lemmas_sentence, \"\\n\")\n",
    "\n",
    "        # count frequency of interesting lemmas in the sentence\n",
    "        lemma_freq = dict(Counter(interesting_lemmas_sentence))\n",
    "        #print(\"Frequency of Interesting Lemmas in Sentence:\\n \", lemma_freq, \"\\n\")\n",
    "\n",
    "        # if the sentence lemma was not in the provided list of interesting lemmas, remove it\n",
    "        lemmas_in_list = lemma_freq\n",
    "        for key in list(lemmas_in_list.keys()):\n",
    "              if key not in interesting_lemmas:\n",
    "                 del lemmas_in_list[key]\n",
    "        #print(lemmas_in_list)\n",
    "\n",
    "        # if the provided lemma was not in the sentence, add it with 0 count\n",
    "        for i in list(interesting_lemmas):\n",
    "              if i not in lemmas_in_list:\n",
    "                 lemmas_in_list[i] =  0\n",
    "        #print(lemmas_in_list)\n",
    "\n",
    "        # count total words in the sentence\n",
    "        total_count = 0\n",
    "        for token in doc:\n",
    "            if not(token.is_space or token.is_punct):\n",
    "                total_count += 1\n",
    "        # print(\"\\nTotal words in sentence:\", total_count)\n",
    "\n",
    "        # return the number of times any of the interesting lemmas appear in the sentence \n",
    "        # divided by the number of words in the sentence\n",
    "        print(\"Lemmas with Frequency and Score:\")\n",
    "        for key, value in lemma_freq.items():\n",
    "            score = value/total_count\n",
    "            print(f\"  Lemma: {key},  Frequency: {value},  Score: {round(score,2)}\")\n",
    "        print(\"\\n------------------ END ------------------\\n\")\n",
    "        \n",
    "        \n",
    "# Run the Token method\n",
    "sentence = \"When we think about the onward march of automotive technology, headlights aren’t usually the first thing that come to mind.\" \n",
    "interesting_token = ['laser', 'headlights', 'headlight', 'technology', 'led']\n",
    "NLP.score_sentence_by_token(sentence, interesting_token)\n",
    "\n",
    "# Run the Lemma method\n",
    "sentence = \"When we think about the onward march of automotive technology, headlights aren’t usually the first thing that come to mind.\" \n",
    "interesting_lemmas = ['laser', 'headlight', 'beam', 'led', 'technology']\n",
    "NLP.score_sentence_by_lemma(sentence, interesting_lemmas)"
   ]
  },
  {
   "cell_type": "markdown",
   "metadata": {
    "tags": []
   },
   "source": [
    "----------------\n",
    "### QUESTION 6"
   ]
  },
  {
   "cell_type": "markdown",
   "metadata": {},
   "source": [
    "6. Make a list containing the scores (using tokens) of every sentence in the article, and plot a histogram with appropriate titles and axis labels of the scores. From your histogram, what seems to be the most common range of scores (put the answer in a comment after your code)?"
   ]
  },
  {
   "cell_type": "code",
   "execution_count": 18,
   "metadata": {},
   "outputs": [
    {
     "name": "stdout",
     "output_type": "stream",
     "text": [
      "5 MOST COMMON WORDS: {'headlights', 'headlight', 'led', 'technology', 'laser'} \n",
      "\n",
      "SCORE LIST: [0, 0.16667, 0.09524, 0.0, 0.0, 0.03846, 0.1, 1.0, 0.25, 0.13043, 0.0, 0.14286, 0.25, 0.0, 0.04545, 0.22222, 0.0, 0.1875, 0.15, 0.09091, 0.07692, 0.05263, 0.0, 0.04545, 0.07407, 0.03846, 0.0, 0.03333, 0.29412, 0.05556, 0.0, 0.14286, 0.15152, 0.05263, 0.05556, 0.12903, 0.0, 0.0, 0.0, 0.07143, 0.07143, 0.0, 0.0, 0.04, 0.05556, 0.125, 0.07317, 0.03226, 0.08333, 0.11111, 0.04, 0.12, 0.06061, 0.08696, 0.07407, 0.0, 0.0, 0.4]\n"
     ]
    },
    {
     "data": {
      "image/png": "[encoded data removed]",
      "text/plain": [
       "<Figure size 640x480 with 1 Axes>"
      ]
     },
     "metadata": {},
     "output_type": "display_data"
    },
    {
     "data": {
      "text/plain": [
       "'ANSWER: The most common range of scores is 0 to 0.1.'"
      ]
     },
     "execution_count": 18,
     "metadata": {},
     "output_type": "execute_result"
    }
   ],
   "source": [
    "# load article text into trained spaCy pipeline\n",
    "nlp = spacy.load('en_core_web_sm')\n",
    "nlp.add_pipe('spacytextblob')\n",
    "doc = nlp(article_content.get_text())\n",
    "\n",
    "# create a function to remove whitepace, stopwords, and punctuation\n",
    "def we_care_about(token):\n",
    "    return not (token.is_space or token.is_punct or token.is_stop)\n",
    "\n",
    "# remove whitespace, stopwords, and punctuation & make text lowercase\n",
    "interesting_tokens = [token.text.lower() for token in doc if we_care_about(token)]\n",
    "\n",
    "# count word frequency \n",
    "word_freq = Counter(map(str,interesting_tokens))\n",
    "\n",
    "# important words, 5 most common \n",
    "cool_words = set()\n",
    "for word, freq in word_freq.most_common(5):\n",
    "    cool_words.add(word)\n",
    "print(\"5 MOST COMMON WORDS:\", cool_words, \"\\n\")\n",
    "\n",
    "# count number of words in each sentence\n",
    "# print(\"----------- COUNT OF WORDS PER SENTENCE: -----------\")\n",
    "sentences = list(doc.sents)\n",
    "sentence_count = 0\n",
    "sentence_score_list = list()\n",
    "\n",
    "for sentence in sentences:\n",
    "    sentence_count +=1\n",
    "    important_count = 0\n",
    "    total_count = 0\n",
    "    \n",
    "    for token in sentence:\n",
    "        #count important words in sentence\n",
    "        if token.text.lower() in cool_words:\n",
    "            important_count += 1\n",
    "        \n",
    "        #count total words in sentence\n",
    "        if not(token.is_space or token.is_punct):\n",
    "            total_count += 1\n",
    "    \n",
    "    score = 0 if total_count == 0 else round(important_count/total_count, 5)\n",
    "    sentence_score_list.append(score)\n",
    "    \n",
    "    # print results\n",
    "    # because there's a bunch of junk newlines, we'll replace those with nothing, as well as a little bit of whitespace\n",
    "    sent_str = str(sentence).replace('\\n','').replace('  ',' ')\n",
    "    '''print(str(sentence_count)+\".\",\n",
    "          \"Total words:\", total_count, \n",
    "          \", Important words:\", important_count, \n",
    "          \", Score:\", score,\n",
    "          \"\\nSentence:\", sent_str, \"\\n\")'''  \n",
    "    \n",
    "#print(\"--------------------- END ---------------------\")\n",
    "print(\"SCORE LIST:\", sentence_score_list)\n",
    "\n",
    "# plot a histogram with scores\n",
    "import matplotlib.pyplot as plt\n",
    "plt.hist(sentence_score_list)\n",
    "plt.title('Frequency of Sentence Scores Using Tokens')\n",
    "plt.xlabel(\"Score\")\n",
    "plt.ylabel(\"Frequency\")\n",
    "plt.show()\n",
    "\n",
    "'''QUESTION: From your histogram, what seems to be the most common range of scores (put the answer in a comment after your code)?'''\n",
    "'''ANSWER: The most common range of scores is 0 to 0.1.'''"
   ]
  },
  {
   "cell_type": "markdown",
   "metadata": {
    "tags": []
   },
   "source": [
    "----------------\n",
    "### QUESTION 7"
   ]
  },
  {
   "cell_type": "markdown",
   "metadata": {},
   "source": [
    "7. Make a list containing the scores (using lemmas) of every sentence in the article, and plot a histogram with appropriate titles and axis labels of the scores.  From your histogram, what seems to be the most common range of scores (put the answer in a comment after your code)?"
   ]
  },
  {
   "cell_type": "code",
   "execution_count": 19,
   "metadata": {},
   "outputs": [
    {
     "name": "stdout",
     "output_type": "stream",
     "text": [
      "5 MOST COMMON LEMMAS: {'headlight', 'led', 'beam', 'technology', 'laser'} \n",
      "\n",
      "SCORE LIST: [0, 0.08333, 0.04762, 0.0, 0.0, 0.03846, 0.1, 0.5, 0.25, 0.08696, 0.0, 0.07143, 0.1875, 0.0, 0.0, 0.11111, 0.0, 0.1875, 0.1, 0.09091, 0.11538, 0.05263, 0.0, 0.04545, 0.03704, 0.03846, 0.0, 0.03333, 0.29412, 0.05556, 0.0, 0.09524, 0.21212, 0.05263, 0.0, 0.12903, 0.0, 0.0, 0.0, 0.07143, 0.14286, 0.02857, 0.0, 0.0, 0.0, 0.125, 0.09756, 0.03226, 0.08333, 0.11111, 0.04, 0.04, 0.06061, 0.04348, 0.07407, 0.0, 0.0, 0.33333]\n"
     ]
    },
    {
     "data": {
      "image/png": "[encoded data removed]",
      "text/plain": [
       "<Figure size 640x480 with 1 Axes>"
      ]
     },
     "metadata": {},
     "output_type": "display_data"
    },
    {
     "data": {
      "text/plain": [
       "'ANSWER: The most common range of scores is 0 to 0.05.'"
      ]
     },
     "execution_count": 19,
     "metadata": {},
     "output_type": "execute_result"
    }
   ],
   "source": [
    "# load article text into trained spaCy pipeline\n",
    "nlp = spacy.load('en_core_web_sm')\n",
    "nlp.add_pipe('spacytextblob')\n",
    "doc = nlp(article_content.get_text())\n",
    "\n",
    "# create a function to remove whitepace, stopwords, and punctuation\n",
    "def we_care_about(token):\n",
    "    return not (token.is_space or token.is_punct or token.is_stop)\n",
    "\n",
    "# remove whitespace, stopwords, and punctuation & make text lowercase\n",
    "interesting_lemmas = [token.lemma_.lower() for token in doc if we_care_about(token)]\n",
    "\n",
    "# count word frequency \n",
    "lemma_freq = Counter(interesting_lemmas)\n",
    "\n",
    "# interesting lemmas, 5 most common \n",
    "cool_lemmas = set()\n",
    "for l, freq in lemma_freq.most_common(5):\n",
    "    cool_lemmas.add(l)\n",
    "print(\"5 MOST COMMON LEMMAS:\", cool_lemmas, \"\\n\")\n",
    "\n",
    "# count number of words in each sentence\n",
    "sentences = list(doc.sents)\n",
    "sentence_score_list = list()\n",
    "\n",
    "for sentence in sentences:\n",
    "    important_count = 0\n",
    "    total_count = 0\n",
    "    \n",
    "    for token in sentence:\n",
    "        #count important words in sentence\n",
    "        if token.text.lower() in cool_lemmas:\n",
    "            important_count += 1\n",
    "        \n",
    "        #count total words in sentence\n",
    "        if not(token.is_space or token.is_punct):\n",
    "            total_count += 1\n",
    "    \n",
    "    score = 0 if total_count == 0 else round(important_count/total_count, 5)\n",
    "    sentence_score_list.append(score)\n",
    "    \n",
    "print(\"SCORE LIST:\", sentence_score_list)\n",
    "\n",
    "# plot a histogram with scores\n",
    "import matplotlib.pyplot as plt\n",
    "plt.hist(sentence_score_list)\n",
    "plt.title('Frequency of Sentence Scores Using Lemmas')\n",
    "plt.xlabel(\"Score\")\n",
    "plt.ylabel(\"Frequency\")\n",
    "plt.show()\n",
    "\n",
    "'''QUESTION: From your histogram, what seems to be the most common range of scores (put the answer in a comment after your code)?'''\n",
    "'''ANSWER: The most common range of scores is 0 to 0.05.'''"
   ]
  },
  {
   "cell_type": "markdown",
   "metadata": {
    "tags": []
   },
   "source": [
    "----------------\n",
    "### QUESTION 8"
   ]
  },
  {
   "cell_type": "markdown",
   "metadata": {},
   "source": [
    "8. Which tokens and lexems would be ommitted from the lists generated in questions 3 and 4 if we only wanted to consider nouns as interesting words?  How might we change the code to only consider nouns? Put your answer in this Markdown cell (you can edit it by double clicking it).\n",
    "\n",
    "#### Answer:\n",
    "\n",
    "In question 3, the token \"led\" would be removed from the list of the top 5 most common tokens, and replaced with \"beam\".\n",
    "\n",
    "In question 4, no lemmas would be removed from the list of the top 5 most common lemmas.\n",
    "\n",
    "The spaCy .pos_ tag can be used to identify and keep only the nouns in the text:\n",
    "\n",
    "    def we_care_about(token):\n",
    "        if token.pos_ == 'PROPN' or token.pos_ == 'NOUN' and not (token.is_space or token.is_punct or token.is_stop):\n",
    "            return token \n",
    "\n",
    "------------\n"
   ]
  },
  {
   "cell_type": "code",
   "execution_count": 50,
   "metadata": {},
   "outputs": [
    {
     "name": "stdout",
     "output_type": "stream",
     "text": [
      "5 most common tokens (Nouns Only):\n",
      "  [('laser', 35), ('headlights', 19), ('technology', 10), ('headlight', 10), ('beam', 7)]\n",
      "\n",
      "5 most common tokens (Nouns Only) with appropriate labels and frequencies:\n",
      "  #1 Most common token is \u001b[1mlaser\u001b[0m with a count of \u001b[1m35\u001b[0m\n",
      "  #2 Most common token is \u001b[1mheadlights\u001b[0m with a count of \u001b[1m19\u001b[0m\n",
      "  #3 Most common token is \u001b[1mtechnology\u001b[0m with a count of \u001b[1m10\u001b[0m\n",
      "  #4 Most common token is \u001b[1mheadlight\u001b[0m with a count of \u001b[1m10\u001b[0m\n",
      "  #5 Most common token is \u001b[1mbeam\u001b[0m with a count of \u001b[1m7\u001b[0m\n"
     ]
    }
   ],
   "source": [
    "# QUESTION 3 UPDATED TO INCLUDE ONLY NOUNS\n",
    "\n",
    "import spacy\n",
    "from spacytextblob.spacytextblob import SpacyTextBlob\n",
    "from collections import Counter\n",
    "\n",
    "# load article text into trained spaCy pipeline\n",
    "nlp = spacy.load('en_core_web_sm')\n",
    "nlp.add_pipe('spacytextblob')\n",
    "doc = nlp(article_content.get_text())\n",
    "\n",
    "# create a function to remove whitepace, stopwords, and punctuation\n",
    "# Updated to include only nouns\n",
    "def we_care_about(token):\n",
    "    if token.pos_ == 'PROPN' or token.pos_ == 'NOUN' and not (token.is_space or token.is_punct or token.is_stop):\n",
    "        return token \n",
    "\n",
    "# remove whitespace, stopwords, and punctuation & make text lowercase\n",
    "interesting_tokens = [token.text.lower() for token in doc if we_care_about(token)]\n",
    "\n",
    "# count word frequency \n",
    "word_freq = Counter(map(str,interesting_tokens))\n",
    "five_most_common = word_freq.most_common(5)\n",
    "\n",
    "# print 5 most common word tokens\n",
    "print(\"5 most common tokens (Nouns Only):\\n \", five_most_common)\n",
    "\n",
    "# print 5 most common word tokens with appropriate labels & frequencies\n",
    "print(\"\\n5 most common tokens (Nouns Only) with appropriate labels and frequencies:\") \n",
    "c = 0\n",
    "for x in five_most_common:\n",
    "    c +=1\n",
    "    print(f\"  #{c} Most common token is\", '\\x1b[1m'+str(five_most_common[c-1][0])+'\\x1b[0m', \n",
    "          \"with a count of\", '\\x1b[1m'+str(five_most_common[c-1][1])+'\\x1b[0m')   "
   ]
  },
  {
   "cell_type": "code",
   "execution_count": 52,
   "metadata": {},
   "outputs": [
    {
     "name": "stdout",
     "output_type": "stream",
     "text": [
      "5 most common lemmas (Nouns Only):\n",
      "  [('laser', 40), ('headlight', 27), ('beam', 12), ('led', 11), ('technology', 10)]\n",
      "\n",
      "5 most common lemmas  (Nouns Only) with appropriate labels and frequencies:\n",
      "  #1 Most common lemma is \u001b[1mlaser\u001b[0m with a count of \u001b[1m40\u001b[0m\n",
      "  #2 Most common lemma is \u001b[1mheadlight\u001b[0m with a count of \u001b[1m27\u001b[0m\n",
      "  #3 Most common lemma is \u001b[1mbeam\u001b[0m with a count of \u001b[1m12\u001b[0m\n",
      "  #4 Most common lemma is \u001b[1mled\u001b[0m with a count of \u001b[1m11\u001b[0m\n",
      "  #5 Most common lemma is \u001b[1mtechnology\u001b[0m with a count of \u001b[1m10\u001b[0m\n"
     ]
    }
   ],
   "source": [
    "# QUESTION 4 UPDATED TO INCLUDE ONLY NOUNS\n",
    "\n",
    "import spacy\n",
    "from spacytextblob.spacytextblob import SpacyTextBlob\n",
    "from collections import Counter\n",
    "\n",
    "# load article text into trained spaCy pipeline\n",
    "nlp = spacy.load('en_core_web_sm')\n",
    "nlp.add_pipe('spacytextblob')\n",
    "doc = nlp(article_content.get_text())\n",
    "\n",
    "# create a function to remove whitepace, stopwords, and punctuation\n",
    "def we_care_about(token):\n",
    "    if token.pos_ == 'PROPN' or token.pos_ == 'NOUN' and not (token.is_space or token.is_punct or token.is_stop):\n",
    "        return token  \n",
    "\n",
    "# remove whitespace, stopwords, and punctuation & make text lowercase\n",
    "interesting_lemmas = [token.lemma_.lower() for token in doc if we_care_about(token)]\n",
    "#print(interesting_lemmas)\n",
    "\n",
    "# count lemma frequency \n",
    "lemma_freq = Counter(interesting_lemmas)\n",
    "five_most_common = lemma_freq.most_common(5)\n",
    "\n",
    "# print 5 most common lemmas\n",
    "print(\"5 most common lemmas (Nouns Only):\\n \", five_most_common)\n",
    "\n",
    "# print 5 most common lemmas with appropriate labels & frequencies\n",
    "print(\"\\n5 most common lemmas  (Nouns Only) with appropriate labels and frequencies:\") \n",
    "c = 0\n",
    "for x in five_most_common:\n",
    "    c +=1\n",
    "    print(f\"  #{c} Most common lemma is\", '\\x1b[1m'+str(five_most_common[c-1][0])+'\\x1b[0m', \n",
    "          \"with a count of\", '\\x1b[1m'+str(five_most_common[c-1][1])+'\\x1b[0m') "
   ]
  },
  {
   "cell_type": "code",
   "execution_count": null,
   "metadata": {},
   "outputs": [],
   "source": []
  }
 ],
 "metadata": {
  "kernelspec": {
   "display_name": "Python 3 (ipykernel)",
   "language": "python",
   "name": "python3"
  },
  "language_info": {
   "codemirror_mode": {
    "name": "ipython",
    "version": 3
   },
   "file_extension": ".py",
   "mimetype": "text/x-python",
   "name": "python",
   "nbconvert_exporter": "python",
   "pygments_lexer": "ipython3",
   "version": "3.9.7"
  }
 },
 "nbformat": 4,
 "nbformat_minor": 4
}
